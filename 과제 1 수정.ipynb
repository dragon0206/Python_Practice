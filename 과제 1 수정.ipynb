{
 "cells": [
  {
   "cell_type": "code",
   "execution_count": 10,
   "id": "e54a19ec",
   "metadata": {},
   "outputs": [
    {
     "name": "stdout",
     "output_type": "stream",
     "text": [
      "[자동판매기 프로그램]\n",
      "=====================\n",
      "입력할 1000원 지폐 개수: 1\n",
      "입력할 500원 동전 개수:  0\n",
      "입력할 100원 동전 개수:  0\n",
      "구입할 물건 값 입력: 9\n",
      "=====================\n",
      "내신 총 금액:  1000 원\n",
      "거스름돈 금액:  991 원\n",
      "물건을 받으세요. 거스름돈은 다음과 같습니다\n",
      "1000원 지폐:0개, 500원 동전:1개, 100원 동전:4개, 10원 동전:9개, 1원동전:1개 입니다\n"
     ]
    }
   ],
   "source": [
    "print(\"[자동판매기 프로그램]\")\n",
    "print(\"=====================\")\n",
    "M1000 = int(input(\"입력할 1000원 지폐 개수: \"))  #int로 정수로 만들어주기 안하면 이상해짐\n",
    "M500 = int(input(\"입력할 500원 동전 개수:  \"))\n",
    "M100 = int(input(\"입력할 100원 동전 개수:  \"))\n",
    "price = int(input(\"구입할 물건 값 입력: \"))\n",
    "print(\"=====================\")\n",
    "M = M1000 * 1000 + M500 * 500 + M100 * 100\n",
    "print(\"내신 총 금액: \",M,\"원\")\n",
    "Change = M - price\n",
    "print(\"거스름돈 금액: \",Change,\"원\") #chnage는 기본 거스름돈 금액\n",
    "print('물건을 받으세요. 거스름돈은 다음과 같습니다')\n",
    "C1000 = Change // 1000  # // 은 값으로 나눈 몫\n",
    "Change = Change - C1000 * 1000\n",
    "C500 = Change // 500\n",
    "Change = Change - C500 * 500\n",
    "C100 = Change // 100\n",
    "Change = Change - C100 * 100\n",
    "C10 = Change // 10\n",
    "Change = Change - C10 * 10\n",
    "C1 = Change // 1\n",
    "print(\"1000원 지폐:\"+str(C1000)+\"개, 500원 동전:\"+str(C500)+\"개, 100원 동전:\"+str(C100)+\"개, 10원 동전:\"+str(C10)+\"개, 1원동전:\"+str(C1)+\"개 입니다\")\n",
    "\n",
    "\n"
   ]
  },
  {
   "cell_type": "code",
   "execution_count": null,
   "id": "2cdf4d71",
   "metadata": {},
   "outputs": [],
   "source": []
  }
 ],
 "metadata": {
  "kernelspec": {
   "display_name": "Python 3 (ipykernel)",
   "language": "python",
   "name": "python3"
  },
  "language_info": {
   "codemirror_mode": {
    "name": "ipython",
    "version": 3
   },
   "file_extension": ".py",
   "mimetype": "text/x-python",
   "name": "python",
   "nbconvert_exporter": "python",
   "pygments_lexer": "ipython3",
   "version": "3.9.7"
  }
 },
 "nbformat": 4,
 "nbformat_minor": 5
}
